{
  "nbformat": 4,
  "nbformat_minor": 0,
  "metadata": {
    "colab": {
      "name": "Times_Series.ipynb",
      "provenance": [],
      "collapsed_sections": [
        "P3EPp_GYNBov",
        "GkUiBp3_N9lO",
        "2lK9T5ovOCNW",
        "I8v8gBRmOIs5",
        "stMmCfOnOas7",
        "JDkg-HMvPV1B",
        "gZA323lzQtLQ",
        "NArphnrWRMFx",
        "flrKyULKRnfn",
        "Oub-BDu2V8ol",
        "fo0BBYp0XE3n"
      ]
    },
    "kernelspec": {
      "name": "python3",
      "display_name": "Python 3"
    },
    "language_info": {
      "name": "python"
    }
  },
  "cells": [
    {
      "cell_type": "markdown",
      "metadata": {
        "id": "P3EPp_GYNBov"
      },
      "source": [
        "###Importar Pandas, numpy e matplobtlib"
      ]
    },
    {
      "cell_type": "code",
      "metadata": {
        "id": "A4tAFm_vM8Cq"
      },
      "source": [
        "import pandas as pd\n",
        "import numpy as np\n",
        "import matplotlib.pyplot as plt\n",
        "%matplotlib inline"
      ],
      "execution_count": null,
      "outputs": []
    },
    {
      "cell_type": "markdown",
      "metadata": {
        "id": "GkUiBp3_N9lO"
      },
      "source": [
        "###datetime"
      ]
    },
    {
      "cell_type": "code",
      "metadata": {
        "id": "WfsC0s1TN_Gu"
      },
      "source": [
        "import datetime"
      ],
      "execution_count": null,
      "outputs": []
    },
    {
      "cell_type": "markdown",
      "metadata": {
        "id": "2lK9T5ovOCNW"
      },
      "source": [
        "###Locale"
      ]
    },
    {
      "cell_type": "markdown",
      "metadata": {
        "id": "e5DXZgJzTfxC"
      },
      "source": [
        "Importar a lib locale"
      ]
    },
    {
      "cell_type": "code",
      "metadata": {
        "id": "pZaR-dliOCiB"
      },
      "source": [
        "import locale\n",
        "#locale.setlocale(locale.LC_ALL,'pt-BR') - Windows\n",
        "# locale.setlocale(locale.LC_ALL,'pt_BR.utf8') #Linux"
      ],
      "execution_count": null,
      "outputs": []
    },
    {
      "cell_type": "markdown",
      "metadata": {
        "id": "I8v8gBRmOIs5"
      },
      "source": [
        "###Data e Hora atual (Now)"
      ]
    },
    {
      "cell_type": "code",
      "metadata": {
        "colab": {
          "base_uri": "https://localhost:8080/"
        },
        "id": "vmA6gkl2OI9e",
        "outputId": "111b43e3-c24f-438f-837d-1777ea60b7c5"
      },
      "source": [
        "datetime.datetime.now()\n",
        "print(datetime.datetime.now())"
      ],
      "execution_count": null,
      "outputs": [
        {
          "output_type": "stream",
          "text": [
            "2021-04-03 14:53:31.483329\n"
          ],
          "name": "stdout"
        }
      ]
    },
    {
      "cell_type": "markdown",
      "metadata": {
        "id": "stMmCfOnOas7"
      },
      "source": [
        "###Diferença de tempo (Timedelta)"
      ]
    },
    {
      "cell_type": "markdown",
      "metadata": {
        "id": "9YqkkOXNO_QE"
      },
      "source": [
        "Pegar dois períodos de tempo (separados por segundos de execução e pegar a diferença)"
      ]
    },
    {
      "cell_type": "code",
      "metadata": {
        "id": "4e1HTRRyOddn"
      },
      "source": [
        "antes=datetime.datetime.now()"
      ],
      "execution_count": null,
      "outputs": []
    },
    {
      "cell_type": "code",
      "metadata": {
        "id": "yfuMTLc_Ohv8"
      },
      "source": [
        "depois=datetime.datetime.now()"
      ],
      "execution_count": null,
      "outputs": []
    },
    {
      "cell_type": "code",
      "metadata": {
        "id": "tNsbsNxYOkGT"
      },
      "source": [
        "diferenca=depois-antes"
      ],
      "execution_count": null,
      "outputs": []
    },
    {
      "cell_type": "markdown",
      "metadata": {
        "id": "IJZDABZ6O-qG"
      },
      "source": [
        "Diferença em segundos"
      ]
    },
    {
      "cell_type": "code",
      "metadata": {
        "colab": {
          "base_uri": "https://localhost:8080/"
        },
        "id": "QJhEfsrLOtEm",
        "outputId": "d45a40fb-e65d-4ac0-f6c5-e253beffd551"
      },
      "source": [
        "diferenca.seconds"
      ],
      "execution_count": null,
      "outputs": [
        {
          "output_type": "execute_result",
          "data": {
            "text/plain": [
              "11"
            ]
          },
          "metadata": {
            "tags": []
          },
          "execution_count": 10
        }
      ]
    },
    {
      "cell_type": "markdown",
      "metadata": {
        "id": "tyHyVF9UPIp1"
      },
      "source": [
        "Instânciar um timeDelta (intervalo de tempo)"
      ]
    },
    {
      "cell_type": "code",
      "metadata": {
        "colab": {
          "base_uri": "https://localhost:8080/"
        },
        "id": "Te8Hx4WdPJGJ",
        "outputId": "7603a37f-9bde-41ec-ad4b-f0ae514d1ca4"
      },
      "source": [
        "datetime.timedelta(seconds=10)"
      ],
      "execution_count": null,
      "outputs": [
        {
          "output_type": "execute_result",
          "data": {
            "text/plain": [
              "datetime.timedelta(seconds=10)"
            ]
          },
          "metadata": {
            "tags": []
          },
          "execution_count": 11
        }
      ]
    },
    {
      "cell_type": "markdown",
      "metadata": {
        "id": "JDkg-HMvPV1B"
      },
      "source": [
        "###String para data Hora(Strptime)"
      ]
    },
    {
      "cell_type": "markdown",
      "metadata": {
        "id": "1UZhxwIPPaEF"
      },
      "source": [
        "Data e hora formato mês/dia/ano hora:minuto:segundo\n",
        "\n",
        "\n"
      ]
    },
    {
      "cell_type": "code",
      "metadata": {
        "colab": {
          "base_uri": "https://localhost:8080/",
          "height": 35
        },
        "id": "VuSgs8f4PaU4",
        "outputId": "d9f5e87e-882e-4e63-ce2e-89d58636de6e"
      },
      "source": [
        "str_data_hora='09/17/20 13:26:35'\n",
        "str_data_hora"
      ],
      "execution_count": null,
      "outputs": [
        {
          "output_type": "execute_result",
          "data": {
            "application/vnd.google.colaboratory.intrinsic+json": {
              "type": "string"
            },
            "text/plain": [
              "'09/17/20 13:26:35'"
            ]
          },
          "metadata": {
            "tags": []
          },
          "execution_count": 13
        }
      ]
    },
    {
      "cell_type": "markdown",
      "metadata": {
        "id": "KJ6-FhbjQois"
      },
      "source": [
        "Converter com base na especificação do Python para conversões"
      ]
    },
    {
      "cell_type": "code",
      "metadata": {
        "colab": {
          "base_uri": "https://localhost:8080/"
        },
        "id": "e3HgFzTJPssc",
        "outputId": "0fe8b49f-b281-4647-fb9c-d2ae3c45bda4"
      },
      "source": [
        "convertida_para_datetime=datetime.datetime.strptime(str_data_hora,'%m/%d/%y %H:%M:%S')\n",
        "print(convertida_para_datetime)"
      ],
      "execution_count": null,
      "outputs": [
        {
          "output_type": "stream",
          "text": [
            "2020-09-17 13:26:35\n"
          ],
          "name": "stdout"
        }
      ]
    },
    {
      "cell_type": "markdown",
      "metadata": {
        "id": "gZA323lzQtLQ"
      },
      "source": [
        "### String para data"
      ]
    },
    {
      "cell_type": "markdown",
      "metadata": {
        "id": "4ejLka13QwBh"
      },
      "source": [
        "String com o valor a ser convertido"
      ]
    },
    {
      "cell_type": "code",
      "metadata": {
        "id": "kjI1itBGQwV1"
      },
      "source": [
        "str_data='09-17-2020'"
      ],
      "execution_count": null,
      "outputs": []
    },
    {
      "cell_type": "markdown",
      "metadata": {
        "id": "Z2-NBtp9RItE"
      },
      "source": [
        "Converter para recuperar somente data"
      ]
    },
    {
      "cell_type": "code",
      "metadata": {
        "colab": {
          "base_uri": "https://localhost:8080/"
        },
        "id": "mcW_X3UcQ2y6",
        "outputId": "578c146f-e6d3-42fc-b28f-33a8ed0ced3f"
      },
      "source": [
        "data=datetime.datetime.strptime(str_data,'%m-%d-%Y').date()\n",
        "print(data)"
      ],
      "execution_count": null,
      "outputs": [
        {
          "output_type": "stream",
          "text": [
            "2020-09-17\n"
          ],
          "name": "stdout"
        }
      ]
    },
    {
      "cell_type": "markdown",
      "metadata": {
        "id": "NArphnrWRMFx"
      },
      "source": [
        "###String para tempo"
      ]
    },
    {
      "cell_type": "markdown",
      "metadata": {
        "id": "0UxEEVUBRQ47"
      },
      "source": [
        "string para tempo"
      ]
    },
    {
      "cell_type": "code",
      "metadata": {
        "id": "DGGtssO1RRO1"
      },
      "source": [
        "str_tempo='14:45:38'"
      ],
      "execution_count": null,
      "outputs": []
    },
    {
      "cell_type": "markdown",
      "metadata": {
        "id": "V3JGkWtpRWS5"
      },
      "source": [
        "Converter recuperando apenas o tempo"
      ]
    },
    {
      "cell_type": "code",
      "metadata": {
        "colab": {
          "base_uri": "https://localhost:8080/"
        },
        "id": "gkJ0sFhRRZck",
        "outputId": "f1cf22ab-07a1-4c3e-83f2-97b8489ad56f"
      },
      "source": [
        "tempo=datetime.datetime.strptime(str_tempo,'%H:%M:%S').time()\n",
        "print(tempo)"
      ],
      "execution_count": null,
      "outputs": [
        {
          "output_type": "stream",
          "text": [
            "14:45:38\n"
          ],
          "name": "stdout"
        }
      ]
    },
    {
      "cell_type": "markdown",
      "metadata": {
        "id": "flrKyULKRnfn"
      },
      "source": [
        "###Períodos de tempo (Freq.)"
      ]
    },
    {
      "cell_type": "markdown",
      "metadata": {
        "id": "iB0yHyOXRqGd"
      },
      "source": [
        "Definir as variáveis de inicio e fim manual"
      ]
    },
    {
      "cell_type": "code",
      "metadata": {
        "id": "3hsuXQxBRqXH"
      },
      "source": [
        "start='01/01/2020'\n",
        "end='31/12/2020'"
      ],
      "execution_count": null,
      "outputs": []
    },
    {
      "cell_type": "markdown",
      "metadata": {
        "id": "cCHHSCjhR4Uj"
      },
      "source": [
        "Gerar intervalo de datas (Inicio de cada mês)"
      ]
    },
    {
      "cell_type": "code",
      "metadata": {
        "colab": {
          "base_uri": "https://localhost:8080/"
        },
        "id": "oaWzJfEtR6R4",
        "outputId": "a9292b17-b178-45c3-ba69-e6a6b487fe04"
      },
      "source": [
        "x=pd.date_range(start,end,freq='MS') #Freq define o intervalo\n",
        "x"
      ],
      "execution_count": null,
      "outputs": [
        {
          "output_type": "execute_result",
          "data": {
            "text/plain": [
              "DatetimeIndex(['2020-01-01', '2020-02-01', '2020-03-01', '2020-04-01',\n",
              "               '2020-05-01', '2020-06-01', '2020-07-01', '2020-08-01',\n",
              "               '2020-09-01', '2020-10-01', '2020-11-01', '2020-12-01'],\n",
              "              dtype='datetime64[ns]', freq='MS')"
            ]
          },
          "metadata": {
            "tags": []
          },
          "execution_count": 27
        }
      ]
    },
    {
      "cell_type": "markdown",
      "metadata": {
        "id": "AI2flXVRS6XV"
      },
      "source": [
        "DateTimeIndex para string nome do mês"
      ]
    },
    {
      "cell_type": "code",
      "metadata": {
        "colab": {
          "base_uri": "https://localhost:8080/"
        },
        "id": "G1nMMvkTTEgG",
        "outputId": "0fe93450-ac9f-412d-aaa6-6b66c2bf7200"
      },
      "source": [
        "x=pd.date_range(start,end,freq='MS').strftime('%B')\n",
        "x"
      ],
      "execution_count": null,
      "outputs": [
        {
          "output_type": "execute_result",
          "data": {
            "text/plain": [
              "Index(['January', 'February', 'March', 'April', 'May', 'June', 'July',\n",
              "       'August', 'September', 'October', 'November', 'December'],\n",
              "      dtype='object')"
            ]
          },
          "metadata": {
            "tags": []
          },
          "execution_count": 47
        }
      ]
    },
    {
      "cell_type": "markdown",
      "metadata": {
        "id": "Oub-BDu2V8ol"
      },
      "source": [
        "###Plot"
      ]
    },
    {
      "cell_type": "markdown",
      "metadata": {
        "id": "EWAEBiRvV-kJ"
      },
      "source": [
        "Gerar números aleatórios"
      ]
    },
    {
      "cell_type": "code",
      "metadata": {
        "colab": {
          "base_uri": "https://localhost:8080/"
        },
        "id": "kxMbcEw7V-9V",
        "outputId": "755644c6-75b3-4cf2-8026-665f907dce7b"
      },
      "source": [
        "y=np.random.normal(10,1,12) #12 valores com média 10 e desvio padrão de 1\n",
        "y"
      ],
      "execution_count": null,
      "outputs": [
        {
          "output_type": "execute_result",
          "data": {
            "text/plain": [
              "array([ 8.70305469,  9.92286655, 10.69791303,  8.987876  ,  9.4533342 ,\n",
              "       10.12141948, 10.31519264, 12.52617996,  9.14221851, 10.20541628,\n",
              "        9.6170685 ,  9.3258589 ])"
            ]
          },
          "metadata": {
            "tags": []
          },
          "execution_count": 42
        }
      ]
    },
    {
      "cell_type": "markdown",
      "metadata": {
        "id": "jLvde-_KWP8m"
      },
      "source": [
        "plotagem de gráfico"
      ]
    },
    {
      "cell_type": "code",
      "metadata": {
        "colab": {
          "base_uri": "https://localhost:8080/",
          "height": 369
        },
        "id": "00M76jVpWSGm",
        "outputId": "bc32ed60-f744-4bf9-d567-d42ddabca304"
      },
      "source": [
        "f,ax=plt.subplots(dpi=100)\n",
        "ax.plot(x,y)\n",
        "f.autofmt_xdate() #auto formatar a data\n",
        "plt.show()"
      ],
      "execution_count": null,
      "outputs": [
        {
          "output_type": "display_data",
          "data": {
            "image/png": "[encoded data removed]",
            "text/plain": [
              "<Figure size 600x400 with 1 Axes>"
            ]
          },
          "metadata": {
            "tags": [],
            "needs_background": "light"
          }
        }
      ]
    },
    {
      "cell_type": "markdown",
      "metadata": {
        "id": "fo0BBYp0XE3n"
      },
      "source": [
        "###DataFrame e Time Series"
      ]
    },
    {
      "cell_type": "markdown",
      "metadata": {
        "id": "MpVuNGSoYDdk"
      },
      "source": [
        "Recuperar os valores de forma em datetime"
      ]
    },
    {
      "cell_type": "code",
      "metadata": {
        "colab": {
          "base_uri": "https://localhost:8080/"
        },
        "id": "TJx2vh5PXJls",
        "outputId": "12734642-cfc7-4f44-bcbd-9f92755057ad"
      },
      "source": [
        "x=pd.date_range(start,end,freq='MS')\n",
        "x"
      ],
      "execution_count": null,
      "outputs": [
        {
          "output_type": "execute_result",
          "data": {
            "text/plain": [
              "DatetimeIndex(['2020-01-01', '2020-02-01', '2020-03-01', '2020-04-01',\n",
              "               '2020-05-01', '2020-06-01', '2020-07-01', '2020-08-01',\n",
              "               '2020-09-01', '2020-10-01', '2020-11-01', '2020-12-01'],\n",
              "              dtype='datetime64[ns]', freq='MS')"
            ]
          },
          "metadata": {
            "tags": []
          },
          "execution_count": 57
        }
      ]
    },
    {
      "cell_type": "markdown",
      "metadata": {
        "id": "ZnsO1x6tYKNK"
      },
      "source": [
        "Atribuir o valor gerado em string"
      ]
    },
    {
      "cell_type": "code",
      "metadata": {
        "id": "na5_v6w-YNEa"
      },
      "source": [
        "x=['2020-01-01', '2020-02-01', '2020-03-01', '2020-04-01',\n",
        "               '2020-05-01', '2020-06-01', '2020-07-01', '2020-08-01',\n",
        "               '2020-09-01', '2020-10-01', '2020-11-01', '2020-12-01']"
      ],
      "execution_count": null,
      "outputs": []
    },
    {
      "cell_type": "markdown",
      "metadata": {
        "id": "P5zF8KYvYPU1"
      },
      "source": [
        "Criar um dataFrame através de um dicionário"
      ]
    },
    {
      "cell_type": "code",
      "metadata": {
        "id": "WPZZ0xq1XUqI"
      },
      "source": [
        "data=pd.DataFrame({'Datas':x,'Valores':y})"
      ],
      "execution_count": null,
      "outputs": []
    },
    {
      "cell_type": "markdown",
      "metadata": {
        "id": "8XCHT4ALYT2a"
      },
      "source": [
        "Visualizar resultado"
      ]
    },
    {
      "cell_type": "code",
      "metadata": {
        "colab": {
          "base_uri": "https://localhost:8080/",
          "height": 402
        },
        "id": "tUZuyVT7Xgvw",
        "outputId": "91b38664-5e10-490f-cb8f-5799c9eb5b77"
      },
      "source": [
        "data"
      ],
      "execution_count": null,
      "outputs": [
        {
          "output_type": "execute_result",
          "data": {
            "text/html": [
              "<div>\n",
              "<style scoped>\n",
              "    .dataframe tbody tr th:only-of-type {\n",
              "        vertical-align: middle;\n",
              "    }\n",
              "\n",
              "    .dataframe tbody tr th {\n",
              "        vertical-align: top;\n",
              "    }\n",
              "\n",
              "    .dataframe thead th {\n",
              "        text-align: right;\n",
              "    }\n",
              "</style>\n",
              "<table border=\"1\" class=\"dataframe\">\n",
              "  <thead>\n",
              "    <tr style=\"text-align: right;\">\n",
              "      <th></th>\n",
              "      <th>Datas</th>\n",
              "      <th>Valores</th>\n",
              "    </tr>\n",
              "  </thead>\n",
              "  <tbody>\n",
              "    <tr>\n",
              "      <th>0</th>\n",
              "      <td>2020-01-01</td>\n",
              "      <td>8.703055</td>\n",
              "    </tr>\n",
              "    <tr>\n",
              "      <th>1</th>\n",
              "      <td>2020-02-01</td>\n",
              "      <td>9.922867</td>\n",
              "    </tr>\n",
              "    <tr>\n",
              "      <th>2</th>\n",
              "      <td>2020-03-01</td>\n",
              "      <td>10.697913</td>\n",
              "    </tr>\n",
              "    <tr>\n",
              "      <th>3</th>\n",
              "      <td>2020-04-01</td>\n",
              "      <td>8.987876</td>\n",
              "    </tr>\n",
              "    <tr>\n",
              "      <th>4</th>\n",
              "      <td>2020-05-01</td>\n",
              "      <td>9.453334</td>\n",
              "    </tr>\n",
              "    <tr>\n",
              "      <th>5</th>\n",
              "      <td>2020-06-01</td>\n",
              "      <td>10.121419</td>\n",
              "    </tr>\n",
              "    <tr>\n",
              "      <th>6</th>\n",
              "      <td>2020-07-01</td>\n",
              "      <td>10.315193</td>\n",
              "    </tr>\n",
              "    <tr>\n",
              "      <th>7</th>\n",
              "      <td>2020-08-01</td>\n",
              "      <td>12.526180</td>\n",
              "    </tr>\n",
              "    <tr>\n",
              "      <th>8</th>\n",
              "      <td>2020-09-01</td>\n",
              "      <td>9.142219</td>\n",
              "    </tr>\n",
              "    <tr>\n",
              "      <th>9</th>\n",
              "      <td>2020-10-01</td>\n",
              "      <td>10.205416</td>\n",
              "    </tr>\n",
              "    <tr>\n",
              "      <th>10</th>\n",
              "      <td>2020-11-01</td>\n",
              "      <td>9.617069</td>\n",
              "    </tr>\n",
              "    <tr>\n",
              "      <th>11</th>\n",
              "      <td>2020-12-01</td>\n",
              "      <td>9.325859</td>\n",
              "    </tr>\n",
              "  </tbody>\n",
              "</table>\n",
              "</div>"
            ],
            "text/plain": [
              "         Datas    Valores\n",
              "0   2020-01-01   8.703055\n",
              "1   2020-02-01   9.922867\n",
              "2   2020-03-01  10.697913\n",
              "3   2020-04-01   8.987876\n",
              "4   2020-05-01   9.453334\n",
              "5   2020-06-01  10.121419\n",
              "6   2020-07-01  10.315193\n",
              "7   2020-08-01  12.526180\n",
              "8   2020-09-01   9.142219\n",
              "9   2020-10-01  10.205416\n",
              "10  2020-11-01   9.617069\n",
              "11  2020-12-01   9.325859"
            ]
          },
          "metadata": {
            "tags": []
          },
          "execution_count": 61
        }
      ]
    },
    {
      "cell_type": "markdown",
      "metadata": {
        "id": "tUCXLeaNYeFC"
      },
      "source": [
        "Verificar informações dos tipos das coluns"
      ]
    },
    {
      "cell_type": "code",
      "metadata": {
        "colab": {
          "base_uri": "https://localhost:8080/"
        },
        "id": "IluVYzuWXo4P",
        "outputId": "8e9fbc13-1b02-4421-bbd7-0ca44792bc9f"
      },
      "source": [
        "data.info()"
      ],
      "execution_count": null,
      "outputs": [
        {
          "output_type": "stream",
          "text": [
            "<class 'pandas.core.frame.DataFrame'>\n",
            "RangeIndex: 12 entries, 0 to 11\n",
            "Data columns (total 2 columns):\n",
            " #   Column   Non-Null Count  Dtype  \n",
            "---  ------   --------------  -----  \n",
            " 0   Datas    12 non-null     object \n",
            " 1   Valores  12 non-null     float64\n",
            "dtypes: float64(1), object(1)\n",
            "memory usage: 320.0+ bytes\n"
          ],
          "name": "stdout"
        }
      ]
    },
    {
      "cell_type": "markdown",
      "metadata": {
        "id": "MDm3_WEwYjlk"
      },
      "source": [
        "Converter o tipo objetct para datetime64"
      ]
    },
    {
      "cell_type": "code",
      "metadata": {
        "colab": {
          "base_uri": "https://localhost:8080/"
        },
        "id": "ycYAXR0zYj8V",
        "outputId": "111ae14d-d8b0-4897-d724-770cf9327370"
      },
      "source": [
        "data['Datas']=pd.DatetimeIndex(data['Datas'])\n",
        "data['Datas']"
      ],
      "execution_count": null,
      "outputs": [
        {
          "output_type": "execute_result",
          "data": {
            "text/plain": [
              "0    2020-01-01\n",
              "1    2020-02-01\n",
              "2    2020-03-01\n",
              "3    2020-04-01\n",
              "4    2020-05-01\n",
              "5    2020-06-01\n",
              "6    2020-07-01\n",
              "7    2020-08-01\n",
              "8    2020-09-01\n",
              "9    2020-10-01\n",
              "10   2020-11-01\n",
              "11   2020-12-01\n",
              "Name: Datas, dtype: datetime64[ns]"
            ]
          },
          "metadata": {
            "tags": []
          },
          "execution_count": 65
        }
      ]
    },
    {
      "cell_type": "markdown",
      "metadata": {
        "id": "WHcT2UjIY13t"
      },
      "source": [
        "Definir datas como index"
      ]
    },
    {
      "cell_type": "code",
      "metadata": {
        "id": "QQiIMsNoY3ha"
      },
      "source": [
        "data.set_index('Datas',inplace=True)"
      ],
      "execution_count": null,
      "outputs": []
    },
    {
      "cell_type": "markdown",
      "metadata": {
        "id": "vQ2o-0T5ZBhD"
      },
      "source": [
        "Verificar index gerado"
      ]
    },
    {
      "cell_type": "code",
      "metadata": {
        "colab": {
          "base_uri": "https://localhost:8080/"
        },
        "id": "GlZJ6zkGZAhj",
        "outputId": "027775db-b4fb-4e6b-e906-f85f69844b99"
      },
      "source": [
        "data.index"
      ],
      "execution_count": null,
      "outputs": [
        {
          "output_type": "execute_result",
          "data": {
            "text/plain": [
              "Index(['Jan', 'Feb', 'Mar', 'Apr', 'May', 'Jun', 'Jul', 'Aug', 'Sep', 'Oct',\n",
              "       'Nov', 'Dec'],\n",
              "      dtype='object', name='Datas')"
            ]
          },
          "metadata": {
            "tags": []
          },
          "execution_count": 70
        }
      ]
    },
    {
      "cell_type": "markdown",
      "metadata": {
        "id": "IpUctRDnZL9l"
      },
      "source": [
        "Realizar operações com o index criado"
      ]
    },
    {
      "cell_type": "code",
      "metadata": {
        "colab": {
          "base_uri": "https://localhost:8080/"
        },
        "id": "nrGXWXR7ZLpT",
        "outputId": "d3bc3edb-2c4c-484a-87eb-f2dc3990afaa"
      },
      "source": [
        "data['Data String']=data.index.strftime('%d/%b/%y')\n",
        "data['Data String']"
      ],
      "execution_count": null,
      "outputs": [
        {
          "output_type": "execute_result",
          "data": {
            "text/plain": [
              "Datas\n",
              "2020-01-01    01/Jan/20\n",
              "2020-02-01    01/Feb/20\n",
              "2020-03-01    01/Mar/20\n",
              "2020-04-01    01/Apr/20\n",
              "2020-05-01    01/May/20\n",
              "2020-06-01    01/Jun/20\n",
              "2020-07-01    01/Jul/20\n",
              "2020-08-01    01/Aug/20\n",
              "2020-09-01    01/Sep/20\n",
              "2020-10-01    01/Oct/20\n",
              "2020-11-01    01/Nov/20\n",
              "2020-12-01    01/Dec/20\n",
              "Name: Data String, dtype: object"
            ]
          },
          "metadata": {
            "tags": []
          },
          "execution_count": 72
        }
      ]
    },
    {
      "cell_type": "code",
      "metadata": {
        "id": "Q2NCvEreZk4l"
      },
      "source": [
        "data['Data String']=pd.to_datetime(data['Data String'],format='%d/%b/%y')"
      ],
      "execution_count": null,
      "outputs": []
    },
    {
      "cell_type": "code",
      "metadata": {
        "colab": {
          "base_uri": "https://localhost:8080/"
        },
        "id": "0dwODIejZvFV",
        "outputId": "90e5086b-0385-48d2-ec9f-3298ec24e56f"
      },
      "source": [
        "data['Data String']"
      ],
      "execution_count": null,
      "outputs": [
        {
          "output_type": "execute_result",
          "data": {
            "text/plain": [
              "Datas\n",
              "2020-01-01   2020-01-01\n",
              "2020-02-01   2020-02-01\n",
              "2020-03-01   2020-03-01\n",
              "2020-04-01   2020-04-01\n",
              "2020-05-01   2020-05-01\n",
              "2020-06-01   2020-06-01\n",
              "2020-07-01   2020-07-01\n",
              "2020-08-01   2020-08-01\n",
              "2020-09-01   2020-09-01\n",
              "2020-10-01   2020-10-01\n",
              "2020-11-01   2020-11-01\n",
              "2020-12-01   2020-12-01\n",
              "Name: Data String, dtype: datetime64[ns]"
            ]
          },
          "metadata": {
            "tags": []
          },
          "execution_count": 75
        }
      ]
    }
  ]
}